{
  "nbformat": 4,
  "nbformat_minor": 0,
  "metadata": {
    "colab": {
      "name": "keras_engineers.ipynb",
      "provenance": [],
      "authorship_tag": "ABX9TyMFS1vRaelvCIR42RTXOcnU",
      "include_colab_link": true
    },
    "kernelspec": {
      "name": "python3",
      "display_name": "Python 3"
    },
    "language_info": {
      "name": "python"
    }
  },
  "cells": [
    {
      "cell_type": "markdown",
      "metadata": {
        "id": "view-in-github",
        "colab_type": "text"
      },
      "source": [
        "<a href=\"https://colab.research.google.com/github/juanestebanperezm/Keras_introduction-/blob/main/keras_engineers.ipynb\" target=\"_parent\"><img src=\"https://colab.research.google.com/assets/colab-badge.svg\" alt=\"Open In Colab\"/></a>"
      ]
    },
    {
      "cell_type": "code",
      "execution_count": 1,
      "metadata": {
        "colab": {
          "base_uri": "https://localhost:8080/"
        },
        "id": "ZWMPUQSbrybC",
        "outputId": "24c24c24-e527-426d-cee1-907e65d115a1"
      },
      "outputs": [
        {
          "output_type": "stream",
          "name": "stdout",
          "text": [
            "Model: \"mnist_model\"\n",
            "_________________________________________________________________\n",
            " Layer (type)                Output Shape              Param #   \n",
            "=================================================================\n",
            " input_1 (InputLayer)        [(None, 784)]             0         \n",
            "                                                                 \n",
            " dense (Dense)               (None, 64)                50240     \n",
            "                                                                 \n",
            " dense_1 (Dense)             (None, 64)                4160      \n",
            "                                                                 \n",
            " dense_2 (Dense)             (None, 10)                650       \n",
            "                                                                 \n",
            "=================================================================\n",
            "Total params: 55,050\n",
            "Trainable params: 55,050\n",
            "Non-trainable params: 0\n",
            "_________________________________________________________________\n"
          ]
        }
      ],
      "source": [
        "import numpy as np\n",
        "import tensorflow as tf\n",
        "from tensorflow import keras\n",
        "\n",
        "\n",
        "input=keras.Input(shape=(784,))\n",
        "\n",
        "dense=keras.layers.Dense(64,activation=\"relu\")\n",
        "x=dense(input)\n",
        "x=keras.layers.Dense(64,activation='relu')(x)\n",
        "out=keras.layers.Dense(10)(x)\n",
        "\n",
        "model=keras.Model(inputs=input,outputs=out,name=\"mnist_model\")\n",
        "\n",
        "model.summary()"
      ]
    },
    {
      "cell_type": "code",
      "source": [
        "keras.utils.plot_model(model,\"modelo_funcional.png\",show_shapes=1)"
      ],
      "metadata": {
        "colab": {
          "base_uri": "https://localhost:8080/",
          "height": 422
        },
        "id": "LB1XU5cbvHHA",
        "outputId": "15181b6d-e9c8-4185-9a29-a54616e7c701"
      },
      "execution_count": 2,
      "outputs": [
        {
          "output_type": "execute_result",
          "data": {
            "text/plain": [
              "<IPython.core.display.Image object>"
            ],
            "image/png": "[encoded data removed]"
          },
          "metadata": {},
          "execution_count": 2
        }
      ]
    },
    {
      "cell_type": "code",
      "source": [
        "(x_train,y_train),(x_test,y_test)=keras.datasets.mnist.load_data()\n",
        "\n",
        "x_train=x_train.reshape(60000,784).astype('float32')/255\n",
        "x_test=x_test.reshape(10000,784).astype('float32')/255\n",
        "\n",
        "model.compile(\n",
        "    loss=keras.losses.SparseCategoricalCrossentropy(from_logits=True),\n",
        "    optimizer=keras.optimizers.RMSprop(),\n",
        "    metrics=['accuracy']\n",
        ")\n",
        "\n",
        "history=model.fit(x_train,y_train,batch_size=64,epochs=2,validation_split=0.2)\n",
        "\n",
        "test_scores=model.evaluate(x_test,y_test,verbose=2)\n",
        "\n",
        "print('Perdida: {}'.format(test_scores[0]))\n",
        "print('Precision: {}'.format(test_scores[1]))"
      ],
      "metadata": {
        "colab": {
          "base_uri": "https://localhost:8080/"
        },
        "id": "qSeIv_R8wDGc",
        "outputId": "a77112d5-990e-48f1-ea18-8c2de4ba5f8c"
      },
      "execution_count": 3,
      "outputs": [
        {
          "output_type": "stream",
          "name": "stdout",
          "text": [
            "Downloading data from https://storage.googleapis.com/tensorflow/tf-keras-datasets/mnist.npz\n",
            "11493376/11490434 [==============================] - 0s 0us/step\n",
            "11501568/11490434 [==============================] - 0s 0us/step\n",
            "Epoch 1/2\n",
            "750/750 [==============================] - 3s 3ms/step - loss: 0.3458 - accuracy: 0.9012 - val_loss: 0.1991 - val_accuracy: 0.9409\n",
            "Epoch 2/2\n",
            "750/750 [==============================] - 2s 3ms/step - loss: 0.1649 - accuracy: 0.9516 - val_loss: 0.1386 - val_accuracy: 0.9613\n",
            "313/313 - 0s - loss: 0.1391 - accuracy: 0.9596 - 344ms/epoch - 1ms/step\n",
            "Perdida: 0.1390557438135147\n",
            "Precision: 0.9595999717712402\n"
          ]
        }
      ]
    },
    {
      "cell_type": "code",
      "source": [
        "model.save('/content/')"
      ],
      "metadata": {
        "colab": {
          "base_uri": "https://localhost:8080/"
        },
        "id": "m68zaSdHepwS",
        "outputId": "c367ed86-44db-4477-93c7-6caa874a8264"
      },
      "execution_count": 4,
      "outputs": [
        {
          "output_type": "stream",
          "name": "stdout",
          "text": [
            "INFO:tensorflow:Assets written to: /content/assets\n"
          ]
        }
      ]
    },
    {
      "cell_type": "code",
      "source": [
        "#Modelos secuenciales usando multiples capas neuronales\n",
        "\n",
        "#Inicio de la DNN\n",
        "encoder_input=keras.Input(shape=(28,28,1),name=\"img\")\n",
        "\n",
        "#Capas Neuronales\n",
        "x=keras.layers.Conv2D(16,3,activation=\"relu\")(encoder_input)\n",
        "x=keras.layers.Conv2D(32,3,activation='relu')(x)\n",
        "x=keras.layers.MaxPooling2D(3)(x)\n",
        "x=keras.layers.Conv2D(32,3,activation='relu')(x)\n",
        "x=keras.layers.Conv2D(16,3,activation='relu')(x)\n",
        "\n",
        "#Final de la DNN\n",
        "enconder_output=keras.layers.GlobalMaxPooling2D()(x)\n",
        "\n",
        "encoder=keras.Model(encoder_input,enconder_output,name='encoder')\n",
        "\n",
        "#Modelo de autoencoder\n",
        "\n",
        "x=keras.layers.Reshape((4,4,1))(enconder_output)\n",
        "x=keras.layers.Conv2DTranspose(16,3,activation='relu')(x)\n",
        "x=keras.layers.Conv2DTranspose(32,3,activation='relu')(x)\n",
        "x=keras.layers.UpSampling2D(3)(x)\n",
        "x=keras.layers.Conv2DTranspose(16,3,activation='relu')(x)\n",
        "decoder_output = keras.layers.Conv2DTranspose(1, 3, activation=\"relu\")(x)\n",
        "\n",
        "auto_encoder=keras.Model(encoder_input,decoder_output,name='autoencoder')\n",
        "auto_encoder.summary()"
      ],
      "metadata": {
        "id": "sSmVTLL3e0F0",
        "colab": {
          "base_uri": "https://localhost:8080/"
        },
        "outputId": "fc847f1f-f1cc-43c0-c60a-eac1e0a23840"
      },
      "execution_count": 5,
      "outputs": [
        {
          "output_type": "stream",
          "name": "stdout",
          "text": [
            "Model: \"autoencoder\"\n",
            "_________________________________________________________________\n",
            " Layer (type)                Output Shape              Param #   \n",
            "=================================================================\n",
            " img (InputLayer)            [(None, 28, 28, 1)]       0         \n",
            "                                                                 \n",
            " conv2d (Conv2D)             (None, 26, 26, 16)        160       \n",
            "                                                                 \n",
            " conv2d_1 (Conv2D)           (None, 24, 24, 32)        4640      \n",
            "                                                                 \n",
            " max_pooling2d (MaxPooling2D  (None, 8, 8, 32)         0         \n",
            " )                                                               \n",
            "                                                                 \n",
            " conv2d_2 (Conv2D)           (None, 6, 6, 32)          9248      \n",
            "                                                                 \n",
            " conv2d_3 (Conv2D)           (None, 4, 4, 16)          4624      \n",
            "                                                                 \n",
            " global_max_pooling2d (Globa  (None, 16)               0         \n",
            " lMaxPooling2D)                                                  \n",
            "                                                                 \n",
            " reshape (Reshape)           (None, 4, 4, 1)           0         \n",
            "                                                                 \n",
            " conv2d_transpose (Conv2DTra  (None, 6, 6, 16)         160       \n",
            " nspose)                                                         \n",
            "                                                                 \n",
            " conv2d_transpose_1 (Conv2DT  (None, 8, 8, 32)         4640      \n",
            " ranspose)                                                       \n",
            "                                                                 \n",
            " up_sampling2d (UpSampling2D  (None, 24, 24, 32)       0         \n",
            " )                                                               \n",
            "                                                                 \n",
            " conv2d_transpose_2 (Conv2DT  (None, 26, 26, 16)       4624      \n",
            " ranspose)                                                       \n",
            "                                                                 \n",
            " conv2d_transpose_3 (Conv2DT  (None, 28, 28, 1)        145       \n",
            " ranspose)                                                       \n",
            "                                                                 \n",
            "=================================================================\n",
            "Total params: 28,241\n",
            "Trainable params: 28,241\n",
            "Non-trainable params: 0\n",
            "_________________________________________________________________\n"
          ]
        }
      ]
    },
    {
      "cell_type": "markdown",
      "source": [
        "<h1>Modelo neuronal secuencial </h1>\n"
      ],
      "metadata": {
        "id": "_fj1EWXeghop"
      }
    },
    {
      "cell_type": "code",
      "source": [
        "modelo=keras.Sequential(\n",
        "    [\n",
        "     keras.Input(shape=(255,)),\n",
        "     keras.layers.Dense(2,activation='relu',name='capa1'),\n",
        "     keras.layers.Dense(3,activation='relu',name='capa2'),\n",
        "     keras.layers.Dense(4,name='capa3')\n",
        "    ]\n",
        ")\n",
        "\n",
        "\n",
        "\n"
      ],
      "metadata": {
        "id": "7MaLxgWjghJR"
      },
      "execution_count": 6,
      "outputs": []
    }
  ]
}