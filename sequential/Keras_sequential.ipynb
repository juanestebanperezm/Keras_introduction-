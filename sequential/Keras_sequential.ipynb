{
  "nbformat": 4,
  "nbformat_minor": 0,
  "metadata": {
    "colab": {
      "name": "Keras sequential.ipynb",
      "provenance": []
    },
    "kernelspec": {
      "name": "python3",
      "display_name": "Python 3"
    },
    "language_info": {
      "name": "python"
    }
  },
  "cells": [
    {
      "cell_type": "markdown",
      "source": [
        "**Cuando se agregan capas, recuerda usar nombres diferentes en cada una de ellas**\n",
        "\n",
        "\n",
        "\n",
        "```\n",
        "name=capa1\n",
        "name=capa2x\n",
        "name=capa3x\n",
        "```\n",
        "\n",
        "y asi sucesivamente\n",
        "\n"
      ],
      "metadata": {
        "id": "zgA3VpnEGVIO"
      }
    },
    {
      "cell_type": "code",
      "execution_count": 2,
      "metadata": {
        "id": "udZ62kdUDoUk"
      },
      "outputs": [],
      "source": [
        "import tensorflow as tf\n",
        "from tensorflow import keras\n",
        "from tensorflow.keras import layers\n",
        "import numpy as np \n",
        "\n",
        "\n",
        "#Modelo secuencial definido por 3 capas neuronales\n",
        "\n",
        "model=keras.Sequential(\n",
        "  [\n",
        "    layers.Dense(2,activation=\"relu\",name=\"capa 1\"),\n",
        "    layers.Dense(3,activation=\"relu\",name=\"capa 2\"),\n",
        "    layers.Dense(4,name=\"capa 3\"),\n",
        "  ]\n",
        ")\n",
        "\n",
        "#Se arranca el modelo con una matrix de 3x3 compuesta por numeros 1\n",
        "x=tf.ones((3,3))\n",
        "y=model(x)\n"
      ]
    },
    {
      "cell_type": "markdown",
      "source": [
        "**Funcion equivalente a la de arriba ✅**\n",
        "\n"
      ],
      "metadata": {
        "id": "HWWkCJhhE8ov"
      }
    },
    {
      "cell_type": "code",
      "source": [
        "capa1=layers.Dense(2,activation=\"relu\",name=\"layer 1\")\n",
        "capa2=layers.Dense(3,activation=\"relu\",name=\"layer 2\")\n",
        "capa3=layers.Dense(4,name=\"layer 3\")\n",
        "\n",
        "#Datos\n",
        "x=tf.ones((4,4))\n",
        "y=capa3(capa2(capa1(x)))"
      ],
      "metadata": {
        "id": "1qMtni1IE8B5"
      },
      "execution_count": 3,
      "outputs": []
    },
    {
      "cell_type": "markdown",
      "source": [
        "**Agregar Capas por Metodo ADD a un modelo Sequential**"
      ],
      "metadata": {
        "id": "g40kyStFF3OP"
      }
    },
    {
      "cell_type": "code",
      "source": [
        "model=keras.Sequential(name=\"secuencial\")\n",
        "model.add(layers.Dense(2,activation=\"relu\",name=\"capax\"))\n",
        "model.add(layers.Dense(3,activation=\"relu\",name=\"capax2\"))\n",
        "model.add(layers.Dense(4,name=\"capax3\"))"
      ],
      "metadata": {
        "id": "kfcoZQQNF-dU"
      },
      "execution_count": 5,
      "outputs": []
    },
    {
      "cell_type": "code",
      "source": [
        "#Modelo secuencial definido por 3 capas neuronales\n",
        "\n",
        "model=keras.Sequential(\n",
        "  [\n",
        "    layers.Dense(2,activation=\"relu\",name=\"capa 1\"),\n",
        "    layers.Dense(3,activation=\"relu\",name=\"capa 2\"),\n",
        "    layers.Dense(4),\n",
        "  ]\n",
        ")\n",
        "\n",
        "#Se arranca el modelo con una matrix de 3x3 compuesta por numeros 1\n",
        "x=tf.ones((1,4))\n",
        "y=model(x)\n",
        "\n",
        "model.summary()"
      ],
      "metadata": {
        "colab": {
          "base_uri": "https://localhost:8080/"
        },
        "id": "F7mKsR7nGvnt",
        "outputId": "bc79cca8-2d46-482d-be91-7a7628fe1f78"
      },
      "execution_count": 12,
      "outputs": [
        {
          "output_type": "stream",
          "name": "stdout",
          "text": [
            "Model: \"sequential_5\"\n",
            "_________________________________________________________________\n",
            " Layer (type)                Output Shape              Param #   \n",
            "=================================================================\n",
            " capa 1 (Dense)              multiple                  10        \n",
            "                                                                 \n",
            " capa 2 (Dense)              multiple                  9         \n",
            "                                                                 \n",
            " dense_5 (Dense)             multiple                  16        \n",
            "                                                                 \n",
            "=================================================================\n",
            "Total params: 35\n",
            "Trainable params: 35\n",
            "Non-trainable params: 0\n",
            "_________________________________________________________________\n"
          ]
        }
      ]
    },
    {
      "cell_type": "markdown",
      "source": [
        "**Un flujo de trabajo de depuración comunes: add() + summary()**\n",
        "Cuando la construcción de una nueva arquitectura secuencial, es útil para apilar capas de forma incremental con add() y con frecuencia imprimir resúmenes modelo. Por ejemplo, esto le permite controlar cómo una pila de Conv2D y MaxPooling2D capas se Downsampling mapas de características de imagen"
      ],
      "metadata": {
        "id": "PiY07iRsHvQY"
      }
    },
    {
      "cell_type": "code",
      "source": [
        "modelo=keras.Sequential(\n",
        "    [\n",
        "                         \n",
        "          keras.Input(shape=(250,250,3)),\n",
        "          layers.Conv2D(32,3,strides=2,activation=\"relu\"),\n",
        "          layers.Conv2D(32,3,activation=\"relu\"),\n",
        "          layers.MaxPooling2D(3),\n",
        "          layers.Conv2D(32,3,activation=\"relu\"),\n",
        "          layers.Conv2D(32,3,activation=\"relu\"),\n",
        "          layers.MaxPooling2D(3),\n",
        "          layers.Conv2D(32,3,activation=\"relu\"),\n",
        "          layers.Conv2D(32,3,activation=\"relu\"),\n",
        "          layers.MaxPooling2D(2),\n",
        "          layers.GlobalMaxPooling2D(),\n",
        "          layers.Dense(10)\n",
        "]\n",
        "\n",
        ")\n",
        "\n",
        "modelo.summary()"
      ],
      "metadata": {
        "id": "g4aYBS_IHtLx"
      },
      "execution_count": null,
      "outputs": []
    },
    {
      "cell_type": "markdown",
      "source": [
        "*Extracción de características con un modelo secuencial*"
      ],
      "metadata": {
        "id": "T0X_KVXDKLwW"
      }
    },
    {
      "cell_type": "code",
      "source": [
        "modelo_inicial=keras.Sequential(\n",
        "    [\n",
        "    keras.Input(shape=(250,250,3)),\n",
        "    layers.Conv2D(32,5,strides=2,activation=\"relu\"),\n",
        "    layers.Conv2D(32,3,activation=\"relu\",name=\"my_intermediate_layer\"),\n",
        "    layers.Conv2D(32,3,activation=\"relu\"),\n",
        "\n",
        "    ]\n",
        " )\n",
        "\n",
        "extractor_=keras.Model(\n",
        "    inputs=modelo_inicial.inputs,\n",
        "    outputs=modelo_inicial.get_layer(name=\"my_intermediate_layer\").output\n",
        ")\n",
        "\n",
        "x=tf.ones((1,250,250,3))\n",
        "features=extractor_(x)\n",
        "features"
      ],
      "metadata": {
        "id": "MKv_5CWUKQmE"
      },
      "execution_count": null,
      "outputs": []
    }
  ]
}