{
  "nbformat": 4,
  "nbformat_minor": 0,
  "metadata": {
    "colab": {
      "name": "functional_api_keras.ipynb",
      "provenance": [],
      "authorship_tag": "ABX9TyNY28qQgT0qv/vCTwunRv5X",
      "include_colab_link": true
    },
    "kernelspec": {
      "name": "python3",
      "display_name": "Python 3"
    },
    "language_info": {
      "name": "python"
    }
  },
  "cells": [
    {
      "cell_type": "markdown",
      "metadata": {
        "id": "view-in-github",
        "colab_type": "text"
      },
      "source": [
        "<a href=\"https://colab.research.google.com/github/juanestebanperezm/Keras_introduction-/blob/main/functional_api_keras.ipynb\" target=\"_parent\"><img src=\"https://colab.research.google.com/assets/colab-badge.svg\" alt=\"Open In Colab\"/></a>"
      ]
    },
    {
      "cell_type": "markdown",
      "source": [
        "<h1>Tensores y como ingresan los datos a las Redes Neuronales 🧠</h1>\n",
        "\n",
        "<img src='https://miro.medium.com/max/891/0*jGB1CGQ9HdeUwlgB' width=450/>\n",
        "\n",
        "```\n",
        "\n",
        "keras.Input se usa para establecer la FORMA o shape, esta por lo general es una tupla \n",
        "\n",
        "(1,2,3),(1,),(1,2,) \n",
        "\n",
        "en como van a entrar los datos a la\n",
        "red neuronal 🧠🤖\n",
        "\n",
        "```\n"
      ],
      "metadata": {
        "id": "PUfevHWv-b3b"
      }
    },
    {
      "cell_type": "code",
      "execution_count": 1,
      "metadata": {
        "id": "TgHWecql9Y1S"
      },
      "outputs": [],
      "source": [
        "import tensorflow as tf\n",
        "from tensorflow import keras\n",
        "import numpy as np \n",
        "\n",
        "\n",
        "#Vector unidimensional [1,2,3] Rank 0 - 1\n",
        "\n",
        "inputs=keras.Input(shape=(784,))\n",
        "\n",
        "#Vector Bidimensional  Rank 2\n",
        "input_bi=keras.Input(shape=(32,32,))\n",
        "\n",
        "#Tensor de 3 Dimensiones Rank 3 - 4\n",
        "img_inputs=keras.Input(shape=(32,32,3))\n",
        "\n"
      ]
    },
    {
      "cell_type": "markdown",
      "source": [
        "<h3>El primer parametro que recibe Dense 🤖 🤯</h3>\n",
        "\n",
        "<h3>Units o Neuronas ⚛</h3>\n",
        "\n",
        "\n",
        "<img src='https://c.mql5.com/18/20/NN1__1.gif'/>\n",
        "\n",
        "```\n",
        "\n",
        "keras.layers.Dense(cantidad de neuronas que tendra la capa, activation='')\n",
        "\n",
        "activation='relu','sigmod','softmax'\n",
        "\n",
        "Las funciones de activacion \n",
        "\n",
        "```\n",
        "\n",
        "<h3>Funciones de activacion ✈</h3>\n",
        "\n",
        "<img src='https://miro.medium.com/max/788/1*TEhut1cV5r63K6LbvdoaaQ.png' width=700\n",
        "/>"
      ],
      "metadata": {
        "id": "jWsTvyeC_11X"
      }
    },
    {
      "cell_type": "code",
      "source": [
        "#Red neuronal\n",
        "#Capa densea\n",
        "densa=keras.layers.Dense(64,activation='relu')\n",
        "#La capa densa recibe los inputs \n",
        "x=densa(inputs)\n",
        "#Capa oculta de la red neuronal\n",
        "x=keras.layers.Dense(64,activation='relu')(x)\n",
        "#Output o salida de la red neuronal\n",
        "outputs=keras.layers.Dense(10)(x)\n",
        "\n"
      ],
      "metadata": {
        "id": "VDVo6gOv_g6E"
      },
      "execution_count": 2,
      "outputs": []
    },
    {
      "cell_type": "markdown",
      "source": [
        "<h1>Weights and BIAS</h1>\n",
        "\n",
        "```\n",
        "Weight - El peso es la fuerza de la conexión. Si aumento la entrada, ¿cuánta influencia tiene en la salida?\n",
        "\n",
        "Los pesos cercanos a cero significan que cambiar esta entrada no cambiará la salida. Muchos algoritmos establecerán automáticamente esos pesos en cero para simplificar la red.\n",
        "\n",
        "bias: significa qué tan lejos están nuestras predicciones de los valores reales. En general, los algoritmos paramétricos tienen un alto sesgo que los hace rápidos de aprender y más fáciles de entender, pero generalmente menos flexibles. A su vez, tienen un menor rendimiento predictivo en problemas complejos que no cumplen con los supuestos simplificadores del sesgo de los algoritmos.\n",
        "\n",
        "low-bias: Sugiere menos suposiciones sobre la forma de la función objetivo.\n",
        "\n",
        "High-bias: Sugiere más suposiciones sobre la forma de la función objetivo.\n",
        "```"
      ],
      "metadata": {
        "id": "goo9pN_daRXS"
      }
    },
    {
      "cell_type": "code",
      "source": [
        "modelo=keras.Model(inputs=inputs,outputs=outputs,name='inicial')\n",
        "modelo.summary()"
      ],
      "metadata": {
        "colab": {
          "base_uri": "https://localhost:8080/"
        },
        "id": "htY-yKecCeE_",
        "outputId": "a72ee943-e025-4749-85cb-0dd27007a908"
      },
      "execution_count": 3,
      "outputs": [
        {
          "output_type": "stream",
          "name": "stdout",
          "text": [
            "Model: \"inicial\"\n",
            "_________________________________________________________________\n",
            " Layer (type)                Output Shape              Param #   \n",
            "=================================================================\n",
            " input_1 (InputLayer)        [(None, 784)]             0         \n",
            "                                                                 \n",
            " dense (Dense)               (None, 64)                50240     \n",
            "                                                                 \n",
            " dense_1 (Dense)             (None, 64)                4160      \n",
            "                                                                 \n",
            " dense_2 (Dense)             (None, 10)                650       \n",
            "                                                                 \n",
            "=================================================================\n",
            "Total params: 55,050\n",
            "Trainable params: 55,050\n",
            "Non-trainable params: 0\n",
            "_________________________________________________________________\n"
          ]
        }
      ]
    },
    {
      "cell_type": "markdown",
      "source": [
        "<h1>Evaluacion del modelo por medio de entrenamiento y model.fit</h1>\n",
        "\n",
        "\n",
        "<h2>Batch size</h2>\n",
        "\n",
        "```\n",
        "The batch size defines the number of samples that will be propagated through the network.\n",
        "\n",
        "For instance, let's say you have 1050 training samples and you want to set up a batch_size equal to 100. The algorithm takes the first 100 samples (from 1st to 100th) from the training dataset and trains the network. Next, it takes the second 100 samples (from 101st to 200th) and trains the network again. We can keep doing this procedure until we have propagated all samples through of the network. Problem might happen with the last set of samples. In our example, we've used 1050 which is not divisible by 100 without remainder. The simplest solution is just to get the final 50 samples and train the network.\n",
        "\n",
        "Advantages of using a batch size < number of all samples:\n",
        "\n",
        "It requires less memory. Since you train the network using fewer samples, the overall training procedure requires less memory. That's especially important if you are not able to fit the whole dataset in your machine's memory.\n",
        "\n",
        "Typically networks train faster with mini-batches. That's because we update the weights after each propagation. In our example we've propagated 11 batches (10 of them had 100 samples and 1 had 50 samples) and after each of them we've updated our network's parameters. If we used all samples during propagation we would make only 1 update for the network's parameter.\n",
        "\n",
        "Disadvantages of using a batch size < number of all samples:\n",
        "\n",
        "The smaller the batch the less accurate the estimate of the gradient will be. In the figure below, you can see that the direction of the mini-batch gradient (green color) fluctuates much more in comparison to the direction of the full batch gradient (blue color).\n",
        "Gradient directions for different batch setups\n",
        "\n",
        "Stochastic is just a mini-batch with batch_size equal to 1. In that case, the gradient changes its direction even more often than a mini-batch gradient.\n",
        "```"
      ],
      "metadata": {
        "id": "U4LpzwDTakZ5"
      }
    },
    {
      "cell_type": "code",
      "source": [
        "(x_train,y_train),(x_test,y_test)=keras.datasets.mnist.load_data()\n",
        "\n",
        "\n",
        "#Split 80 / 20 de la data para su entrenamiento por eso usamos la funcion reshape \n",
        "x_train=x_train.reshape(60000,784).astype('float32')/255\n",
        "x_test=x_test.reshape(10000,784).astype('float32')/255\n",
        "\n",
        "modelo.compile(\n",
        "    #Funcion de loss\n",
        "    loss=keras.losses.SparseCategoricalCrossentropy(from_logits=True),\n",
        "    \n",
        "    #Optimizador de la red neuronal\n",
        "    optimizer=keras.optimizers.RMSprop(),\n",
        "    metrics=['accuracy']\n",
        ")\n",
        "\n",
        "history=modelo.fit(x_train,y_train,batch_size=64,epochs=2,validation_split=0.2)\n",
        "\n",
        "test_scores=modelo.evaluate(x_test,y_test,verbose=2)\n",
        "\n",
        "print(\"Test loss:\", test_scores[0])\n",
        "print(\"Test accuracy:\", test_scores[1])\n"
      ],
      "metadata": {
        "colab": {
          "base_uri": "https://localhost:8080/"
        },
        "id": "ntJ-pHH_awwW",
        "outputId": "f29a58fb-2947-45b1-d7e4-2ccb55bbcfb7"
      },
      "execution_count": 7,
      "outputs": [
        {
          "output_type": "stream",
          "name": "stdout",
          "text": [
            "Epoch 1/2\n",
            "750/750 [==============================] - 3s 3ms/step - loss: 0.3500 - accuracy: 0.9019 - val_loss: 0.2022 - val_accuracy: 0.9429\n",
            "Epoch 2/2\n",
            "750/750 [==============================] - 2s 2ms/step - loss: 0.1654 - accuracy: 0.9503 - val_loss: 0.1430 - val_accuracy: 0.9581\n",
            "313/313 - 0s - loss: 0.1439 - accuracy: 0.9577 - 300ms/epoch - 959us/step\n",
            "Test loss: 0.14394024014472961\n",
            "Test accuracy: 0.9577000141143799\n"
          ]
        }
      ]
    }
  ]
}